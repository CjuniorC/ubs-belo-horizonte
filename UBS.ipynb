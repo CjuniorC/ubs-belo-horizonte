{
 "cells": [
  {
   "cell_type": "code",
   "execution_count": 75,
   "metadata": {},
   "outputs": [],
   "source": [
    "import pandas as pd\n",
    "import numpy as np\n",
    "\n",
    "df = pd.read_csv('./ubs.csv')\n",
    "\n",
    "bh = df[df['dsc_cidade'] == 'Belo Horizonte']\n",
    "\n",
    "bh['dsc_estrut_fisic_ambiencia'].replace('Desempenho mediano ou  um pouco abaixo da média', 1, True)\n",
    "bh['dsc_estrut_fisic_ambiencia'].replace('Desempenho acima da média', 2, True)\n",
    "bh['dsc_estrut_fisic_ambiencia'].replace('Desempenho muito acima da média', 3, True)\n",
    "\n",
    "bh['dsc_adap_defic_fisic_idosos'].replace('Desempenho mediano ou  um pouco abaixo da média', 1, True)\n",
    "bh['dsc_adap_defic_fisic_idosos'].replace('Desempenho acima da média', 2, True)\n",
    "bh['dsc_adap_defic_fisic_idosos'].replace('Desempenho muito acima da média', 3, True)\n",
    "\n",
    "bh['dsc_equipamentos'].replace('Desempenho mediano ou  um pouco abaixo da média', 1, True)\n",
    "bh['dsc_equipamentos'].replace('Desempenho acima da média', 2, True)\n",
    "bh['dsc_equipamentos'].replace('Desempenho muito acima da média', 3, True)\n",
    "bh['dsc_medicamentos'].replace('Desempenho mediano ou  um pouco abaixo da média', 1, True)\n",
    "bh['dsc_medicamentos'].replace('Desempenho acima da média', 2, True)\n",
    "bh['dsc_medicamentos'].replace('Desempenho muito acima da média', 3, True)\n",
    "\n",
    "newbh = bh.T\n",
    "\n",
    "newbh.to_json('./database.json')\n"
   ]
  }
 ],
 "metadata": {
  "kernelspec": {
   "display_name": "Python 3",
   "language": "python",
   "name": "python3"
  },
  "language_info": {
   "codemirror_mode": {
    "name": "ipython",
    "version": 3
   },
   "file_extension": ".py",
   "mimetype": "text/x-python",
   "name": "python",
   "nbconvert_exporter": "python",
   "pygments_lexer": "ipython3",
   "version": "3.6.5"
  }
 },
 "nbformat": 4,
 "nbformat_minor": 2
}
